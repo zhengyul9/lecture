{
 "cells": [
  {
   "cell_type": "markdown",
   "metadata": {},
   "source": [
    "# Multi-layer Perceptrons\n",
    "\n",
    "* Basically, put together many neurons and you have a neural network (or a multi-layer perceptrons). \n",
    "\n",
    "* Suppose you had the following neural network:\n",
    "\n",
    "<img src=\"ExampleNN.png\" width=\"500\">\n",
    "\n",
    "\n",
    "with a hard-limit activation function: $\\phi(v) = \\left\\{ \\begin{array}{c c} -1 & v \\le 0 \\\\ 1 & v > 0 \\end{array}\\right.$\\\\\n",
    "\n",
    "* *What is the output with the following input values?*\n",
    "    * $\\left[0, 0\\right]$\n",
    "    * $\\left[-2, -2.5\\right]$\n",
    "    * $\\left[-5, 5\\right]$\n",
    "    * $\\left[10, 3\\right]$\n"
   ]
  },
  {
   "cell_type": "markdown",
   "metadata": {},
   "source": [
    "* *What does the decision surface of this network look like graphically? Draw it out by hand.*\n",
    "* *Suppose you had the XOR data shown in the figure below.  Design an MLP that can correctly solve this classification problem.*\n",
    "\n",
    "\n",
    "<img src=\"XORdata.png\" width=\"360\">\n"
   ]
  }
 ],
 "metadata": {
  "kernelspec": {
   "display_name": "Python 3",
   "language": "python",
   "name": "python3"
  },
  "language_info": {
   "codemirror_mode": {
    "name": "ipython",
    "version": 3
   },
   "file_extension": ".py",
   "mimetype": "text/x-python",
   "name": "python",
   "nbconvert_exporter": "python",
   "pygments_lexer": "ipython3",
   "version": "3.6.2"
  }
 },
 "nbformat": 4,
 "nbformat_minor": 1
}
