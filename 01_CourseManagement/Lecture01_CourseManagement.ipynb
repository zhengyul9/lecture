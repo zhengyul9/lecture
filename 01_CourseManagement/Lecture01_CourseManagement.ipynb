{
 "cells": [
  {
   "cell_type": "markdown",
   "metadata": {},
   "source": [
    "# Lecture 01  - Course Introduction"
   ]
  },
  {
   "cell_type": "markdown",
   "metadata": {},
   "source": [
    "- *Introduce Instruction Team* (see associated PDF slides)"
   ]
  },
  {
   "cell_type": "markdown",
   "metadata": {},
   "source": [
    "## Review Syllabus: Course Topics, Grading, Office Hours, etc.\n",
    "\n",
    "- The primary textbook will be \"Pattern Recognition and Machine Learning\" by Bishop.  The book is available online: \n",
    "    https://www.microsoft.com/en-us/research/uploads/prod/2006/01/Bishop-Pattern-Recognition-and-Machine-Learning-2006.pdf\n",
    "\n",
    "    https://www.microsoft.com/en-us/research/people/cmbishop/#!prml-book\n",
    "\n",
    "- The class **website** is found on GitHub and Canvas\n",
    "\t- Canvas: Grades, discussion boards, announcements will be posted here\n",
    "\t- GitHub: Course notes, assignments, projects, extra credit will be posted here.\n",
    "\n",
    "- **Extra Credit**: If you find (meaningful) errors or typos in the lecture notes, code, examples, etc posted in the class materials, you can report these using GitHub's \"pull request\" to get some extra credit.  See: https://help.github.com/en/articles/about-pull-requests.  For errors/typos in any PDF file, be sure to correct the associated .tex for my review.  Submit one pull request for all corrections in a single lecture. Include clear notes in the request describing the typos/errors corrected. You will receive 0.5 points of extra credit for each typo correction and 1 or more points for correction of errors (amount of extra credit will be determined by instructor based on significance of the error found and accuracy of correction). You must use the pull request system correctly and the jupyter notebook or latex file must still compile/function properly after merging in the pull request to get any extra credit. \n",
    "\n",
    "- This tends to be a challenging course.  Suggestions to help you do well: \n",
    "\n",
    "    - Do the reading in advance and stay on top of your assignments, many topics build on each other \n",
    "\t- Ask questions when you do not understand. Ask questions in class, during office hours, or using the Canvas discussion page.  Whenever we are asked a question that may be relevant to others, we will post the question and our response to the Canvas discussion page (as opposed to via email) \n",
    "\t- Participate in classroom/wiki discussion and activities\n",
    "\t- You are expected to have a computer available that has git installed, the ability to code and compile in python 3+, and run jupyter notebooks.  If attending class in person, bring this computer to class with you so you can follow along. \n"
   ]
  },
  {
   "cell_type": "code",
   "execution_count": null,
   "metadata": {},
   "outputs": [],
   "source": []
  }
 ],
 "metadata": {
  "kernelspec": {
   "display_name": "Python 3",
   "language": "python",
   "name": "python3"
  },
  "language_info": {
   "codemirror_mode": {
    "name": "ipython",
    "version": 3
   },
   "file_extension": ".py",
   "mimetype": "text/x-python",
   "name": "python",
   "nbconvert_exporter": "python",
   "pygments_lexer": "ipython3",
   "version": "3.7.1"
  }
 },
 "nbformat": 4,
 "nbformat_minor": 2
}
