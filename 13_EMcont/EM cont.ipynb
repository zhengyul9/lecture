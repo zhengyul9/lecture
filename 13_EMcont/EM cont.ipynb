{
 "cells": [
  {
   "cell_type": "markdown",
   "metadata": {},
   "source": [
    "# Introduction to EM for GMM Continued..."
   ]
  },
  {
   "cell_type": "code",
   "execution_count": null,
   "metadata": {},
   "outputs": [],
   "source": [
    "import numpy as np\n",
    "from scipy import stats\n",
    "import matplotlib.pyplot as plt\n",
    "from sklearn import datasets \n",
    "%matplotlib inline\n",
    "\n",
    "def EM_GaussianMixture(X, NumberOfComponents):\n",
    "    \n",
    "    MaximumNumberOfIterations = 100\n",
    "    DiffThresh = 1e-4\n",
    "    N = X.shape[0] #number of data points\n",
    "    d = X.shape[1] #dimensionality\n",
    "    rp = np.random.permutation(N) #random permutation of numbers 1:N\n",
    "\n",
    "    #Initialize Parameters\n",
    "    Means = X[rp[0:NumberOfComponents],:]\n",
    "    Sigs = np.zeros((d,d,NumberOfComponents))\n",
    "    Ps = np.zeros((NumberOfComponents,))\n",
    "    pZ_X = np.zeros((N,NumberOfComponents))\n",
    "\n",
    "    for i in range(NumberOfComponents):\n",
    "        Sigs[:,:,i] = np.eye(d)\n",
    "        Ps[i] = 1/NumberOfComponents\n",
    "\n",
    "    #Solve for p(z | x, Theta(t))\n",
    "    for k in range(NumberOfComponents):\n",
    "        mvn = stats.multivariate_normal(Means[k,:],Sigs[:,:,k])\n",
    "        pZ_X[:,k] = mvn.pdf(X)*Ps[k]\n",
    "\n",
    "    pZ_X = pZ_X / pZ_X.sum(axis=1)[:,np.newaxis]  # np.newaxis fixes cannot broadcast (N,d) (N,) errors\n",
    "\n",
    "    Diff = np.inf\n",
    "    NumberIterations = 1\n",
    "    while Diff > DiffThresh and NumberIterations <= MaximumNumberOfIterations:\n",
    "        #Update Means, Sigs, Ps\n",
    "        MeansOld = Means.copy()\n",
    "        SigsOld = Sigs.copy()\n",
    "        PsOld = Ps.copy()\n",
    "        for k in range(NumberOfComponents):\n",
    "            #Means\n",
    "            Means[k,:] = np.sum(X*pZ_X[:,k,np.newaxis],axis=0)/pZ_X[:,k].sum()\n",
    "            \n",
    "            #Sigs\n",
    "            xDiff = X - Means[k,:] \n",
    "            J = np.zeros((d,d))\n",
    "            for i in range(N):\n",
    "                J = J + pZ_X[i,k]*np.outer(xDiff[i,:],xDiff[i,:])\n",
    "            Sigs[:,:,k] = J / pZ_X[:,k].sum()\n",
    "            \n",
    "            #Ps\n",
    "            Ps[k] = pZ_X[:,k].sum()/N\n",
    "\n",
    "        #Solve for p(z | x, Theta(t))\n",
    "        for k in range(NumberOfComponents):\n",
    "            mvn = stats.multivariate_normal(Means[k,:],Sigs[:,:,k])\n",
    "            pZ_X[:,k] = mvn.pdf(X)*Ps[k]\n",
    "        pZ_X = pZ_X / pZ_X.sum(axis=1)[:,np.newaxis]\n",
    "    \n",
    "        Diff = abs(MeansOld - Means).sum() + abs(SigsOld - Sigs).sum() + abs(PsOld - Ps).sum();\n",
    "        NumberIterations = NumberIterations + 1\n",
    "    \n",
    "    return Means, Sigs, Ps, pZ_X"
   ]
  },
  {
   "cell_type": "code",
   "execution_count": null,
   "metadata": {},
   "outputs": [],
   "source": [
    "n_samples = 1500\n",
    "n_clusters = 3\n",
    "\n",
    "# Make Blob Data\n",
    "X, y_blobs = datasets.make_blobs(n_samples=n_samples)\n",
    "\n",
    "plt.figure(figsize=(6, 6))\n",
    "plt.scatter(X[:, 0], X[:, 1], c=y_blobs)\n",
    "plt.title(\"Blobs with True Labels\")\n"
   ]
  },
  {
   "cell_type": "code",
   "execution_count": null,
   "metadata": {},
   "outputs": [],
   "source": [
    "Means, Sigs, Ps, pZ_X = EM_GaussianMixture(X, 3)\n",
    "\n",
    "\n",
    "plt.figure(figsize=(6, 6))\n",
    "plt.subplot(221)\n",
    "plt.scatter(X[:, 0], X[:, 1], c=pZ_X[:,0])\n",
    "\n",
    "plt.subplot(222)\n",
    "plt.scatter(X[:, 0], X[:, 1], c=pZ_X[:,1])\n",
    "\n",
    "\n",
    "plt.subplot(223)\n",
    "plt.scatter(X[:, 0], X[:, 1], c=pZ_X[:,2])\n",
    "\n"
   ]
  },
  {
   "cell_type": "code",
   "execution_count": null,
   "metadata": {},
   "outputs": [],
   "source": []
  },
  {
   "cell_type": "code",
   "execution_count": null,
   "metadata": {},
   "outputs": [],
   "source": []
  }
 ],
 "metadata": {
  "kernelspec": {
   "display_name": "Python 3",
   "language": "python",
   "name": "python3"
  },
  "language_info": {
   "codemirror_mode": {
    "name": "ipython",
    "version": 3
   },
   "file_extension": ".py",
   "mimetype": "text/x-python",
   "name": "python",
   "nbconvert_exporter": "python",
   "pygments_lexer": "ipython3",
   "version": "3.7.2"
  }
 },
 "nbformat": 4,
 "nbformat_minor": 1
}
