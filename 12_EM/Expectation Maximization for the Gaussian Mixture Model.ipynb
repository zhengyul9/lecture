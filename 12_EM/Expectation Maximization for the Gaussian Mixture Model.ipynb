{
 "cells": [
  {
   "cell_type": "markdown",
   "metadata": {},
   "source": [
    "# Expectation Maximization for the Gaussian Mixture Model"
   ]
  },
  {
   "cell_type": "markdown",
   "metadata": {},
   "source": [
    "* Last class we introduced the Gaussian Mixture Model:\n",
    "     * $p(x) = \\sum_{k=1}^K \\pi_k N(x | \\mu_k, \\Sigma_k)$  where $0 \\le \\pi_k \\le 1$ and $\\sum_k \\pi_k = 1$\n",
    "\n",
    "* Suppose we are given $X = \\left\\{ \\mathbf{x}_1, \\ldots, \\mathbf{x}_N\\right\\}$ where each $\\mathbf{x}_i$ is a sample from one of the $K$ Gaussians in our mixture model.  We want to estimate $\\pi_k, \\mu_k, \\Sigma_k$ given $X$. \n",
    "*  So, we want to maximize the following data likelihood:\n",
    "\\begin{equation}\n",
    "\\hat\\Theta = argmax_\\Theta \\prod_{i=1}^N \\sum_{k=1}^K \\pi_k N(x | \\mu_k, \\Sigma_k)\n",
    "\\end{equation}\n",
    "where $\\Theta = \\left\\{ \\pi_k, \\mu_k, \\Sigma_k \\right\\}_{k=1}^K$\n",
    "\n",
    "\n",
    "* It is difficult to maximize! We should try a simpler version in which we add latent variables to simplify the problem (and apply EM). \n",
    "\n",
    "*  The hidden/latent/missing variable we added was the label of the Gaussian from which $\\mathbf{x}_i$ was drawn\n",
    "\n",
    "\\begin{equation}\n",
    "\\mathbf{x}, z \\sim f(\\mathbf{x},z|\\theta)\n",
    "\\end{equation}\n",
    "\n",
    "\n",
    "* The complete data likelihood is then: \n",
    "\\begin{eqnarray}\n",
    "L^c &=& \\prod_{i=1}^N p(\\mathbf{x}_i | z_i, \\theta)p(z_i)\\\\\n",
    "&=& \\prod_{i=1}^N N(\\mathbf{x}_i| \\mu_{z_i}, \\theta_{z_i})\\pi_{z_i}\n",
    "\\end{eqnarray}\n",
    "\n",
    "* Since we do not know the $z_i$ values, we do not just guess one value - we average over all possible values for $z_i$.  In other words, we take the *expectation* of the complete likelihood with respect to $z$\n",
    "\n",
    "\\begin{eqnarray}\n",
    "Q(\\Theta, \\Theta^t) &=& \\mathbb{E}\\left[ \\ln p(\\mathbf{X}, \\mathbf{z}|\\Theta) | \\mathbf{X}, \\Theta^{t} \\right]\\\\\n",
    "&=& \\sum_{\\mathbf{z}} p(\\mathbf{z}|\\mathbf{X},\\Theta^t)\\ln p(\\mathbf{X}, \\mathbf{z}|\\Theta)\\\\\n",
    "&=& \\sum_{i=1}^N \\sum_{z_i=1}^K p(z_i|\\mathbf{x}_i,\\Theta^t)\\ln p(\\mathbf{x}_i, z_i|\\Theta)\\\\\n",
    "&=& \\sum_{i=1}^N \\sum_{z_i=1}^K p(z_i|\\mathbf{x}_i,\\Theta^t)\\ln p(\\mathbf{x}_i|z_i,\\Theta) p(z_i)\n",
    "\\end{eqnarray}"
   ]
  },
  {
   "cell_type": "markdown",
   "metadata": {},
   "source": [
    "* Thus, to take the expectation, we need $p(z_i|\\mathbf{x}_i,\\Theta^t)$\n",
    "\\begin{eqnarray}\n",
    "p(z_i|\\mathbf{x}_i,\\Theta^t) &=& \\frac{\\pi_{z_i}^t p_{z_i}(\\mathbf{x}_i|\\theta_{z_i}^t, z_i)}{p(\\mathbf{x}_i|\\Theta^t)}\\\\\n",
    "&=& \\frac{\\pi_{z_i}^t p_{z_i}(\\mathbf{x}_i|\\theta_{z_i}^t, z_i)}{\\sum_{k=1}^K \\pi_k^t p_k(\\mathbf{x}_i|\\theta_k^t, k)}\n",
    "\\end{eqnarray}\n",
    "\n",
    "* This completes the Expectation step in EM.  Now, we must derive the update equations for the Maximization step.  So, we need to maximize for $\\pi_k, \\Sigma_k, \\mu_k$.\n",
    "\n"
   ]
  },
  {
   "cell_type": "markdown",
   "metadata": {},
   "source": [
    "## Update equation for mean of the kth Gaussian\n",
    "\n",
    "* For simplicity, let us assume that $\\Sigma_k = \\sigma_k^2\\mathbf{I}$\n",
    "\\begin{eqnarray}\n",
    "Q(\\Theta, \\Theta^t) &=& \\sum_{i=1}^N \\sum_{z_i=1}^K p(z_i|\\mathbf{x}_i,\\Theta^t)\\ln p(\\mathbf{x}_i|z_i,\\Theta) p(z_i)\\\\\n",
    " &=& \\sum_{i=1}^N \\sum_{k=1}^K p(z_i=k|\\mathbf{x}_i,\\Theta^t)\\ln {N}(\\mathbf{x}_i|\\mu_k, \\sigma_k^2) \\pi_k\\\\\n",
    " &=& \\sum_{i=1}^N \\sum_{k=1}^K p(z_i=k|\\mathbf{x}_i,\\Theta^t)\\ln {N}(\\mathbf{x}_i|\\mu_k, \\sigma_k^2) + \\ln \\pi_k\\\\\n",
    "  &=& \\sum_{i=1}^N \\sum_{k=1}^K p(z_i=k|\\mathbf{x}_i,\\Theta^t)\\left( -\\frac{d}{2}\\ln\\sigma_k^2 -\\frac{1}{2\\sigma_k^2}\\left\\| \\mathbf{x}_i - \\mu_k \\right\\|_2^2 + \\ln \\pi_k \\right)\n",
    "\\end{eqnarray}\n",
    "\n",
    "\\begin{eqnarray}\n",
    "\\frac{\\partial Q(\\Theta, \\Theta^t)}{\\partial \\mu_k} &=& \\frac{\\partial}{\\partial \\mu_k} \\left[\\sum_{i=1}^N \\sum_{k=1}^K p(z_i=k|\\mathbf{x}_i,\\Theta^t)\\left( -\\frac{d}{2}\\ln\\sigma_k^2 -\\frac{1}{2\\sigma_k^2}\\left\\| \\mathbf{x}_i - \\mu_k \\right\\|_2^2 + \\ln \\pi_k \\right)\\right] = 0\\\\\n",
    "&=& \\sum_{i=1}^N  p(z_i=k|\\mathbf{x}_i,\\Theta^t)\\left(  \\frac{1}{\\sigma_k^2}\\left(\\mathbf{x}_i - \\mu_k \\right) \\right) = 0\\\\\n",
    "&=& \\sum_{i=1}^N  p(z_i=k|\\mathbf{x}_i,\\Theta^t)\\frac{\\mathbf{x}_i}{\\sigma_k^2} - \\sum_{i=1}^N  p(z_i=k|\\mathbf{x}_i,\\Theta^t) \\frac{\\mu_k}{\\sigma_k^2} = 0\\\\\n",
    "&=& \\sum_{i=1}^N  p(z_i=k|\\mathbf{x}_i,\\Theta^t)\\frac{\\mathbf{x}_i}{\\sigma_k^2} = \\sum_{i=1}^N  p(z_i=k|\\mathbf{x}_i,\\Theta^t) \\frac{\\mu_k}{\\sigma_k^2}\\\\\n",
    "&=& \\sum_{i=1}^N  p(z_i=k|\\mathbf{x}_i,\\Theta^t)\\mathbf{x}_i = \\sum_{i=1}^N  p(z_i=k|\\mathbf{x}_i,\\Theta^t) \\mu_k\\\\\n",
    "& &\\mu_k = \\frac{\\sum_{i=1}^N  p(z_i=k|\\mathbf{x}_i,\\Theta^t)\\mathbf{x}_i}{\\sum_{i=1}^N  p(z_i=k|\\mathbf{x}_i,\\Theta^t)}\n",
    "%\n",
    "\\end{eqnarray}\n",
    "\n"
   ]
  },
  {
   "cell_type": "markdown",
   "metadata": {},
   "source": [
    "## Update equation for the variance of the kth Gaussian\n",
    "\n",
    "\\begin{eqnarray}\n",
    "Q(\\Theta, \\Theta^t) &=& \\sum_{i=1}^N \\sum_{z_i=1}^K p(z_i|\\mathbf{x}_i,\\Theta^t)\\ln p(\\mathbf{x}_i|z_i,\\Theta) p(z_i)\\\\\n",
    "&=& \\sum_{i=1}^N \\sum_{z_i=1}^K p(z_i|\\mathbf{x}_i,\\Theta^t) \\ln \\frac{1}{\\sqrt{2\\pi} \\left|\\Sigma\\right|^{1/2}}\\exp\\left\\{-\\frac{1}{2}\\left( \\mathbf{x} - \\mu \\right)^T \\Sigma^{-1} \\left( \\mathbf{x} - \\mu \\right)\\right\\} \\pi_{z_i}\n",
    "\\end{eqnarray}\n",
    "\n",
    "Assuming that $\\Sigma$ is diagonal, we can simplify to:\n",
    "\\begin{eqnarray}\n",
    "Q(\\Theta, \\Theta^t) &=&  \\sum_{i=1}^N \\sum_{z_i=1}^K p(z_i|\\mathbf{x}_i,\\Theta^t) \\ln \\frac{1}{\\sqrt{2\\pi} (\\prod_{z_i=1}^{k}\\sigma_{z_i}^2)^{1/2}}\\exp\\left\\{-\\frac{1}{2}\\left( \\mathbf{x} - \\mu \\right)^T \\Sigma^{-1} \\left( \\mathbf{x} - \\mu \\right)\\right\\} \\pi_{z_i}\n",
    "\\end{eqnarray}\n",
    "\n",
    "\\begin{eqnarray}\n",
    "\\frac{\\partial Q(\\Theta, \\Theta^t)}{\\partial \\sigma_k^2} &=& \\frac{\\partial}{\\partial \\sigma_k^2} \\left[\\sum_{i=1}^N \\sum_{k=1}^K p(z_i=k|\\mathbf{x}_i,\\Theta^t)\\left( -\\frac{1}{2}\\ln 2\\pi -\\frac{1}{2}\\ln\\sigma_k^2 -\\frac{1}{2\\sigma_k^2}\\left\\| \\mathbf{x}_i - \\mu_k \\right\\|_2^2 + \\ln \\pi_k \\right)\\right] = 0\\\\\n",
    "&=&  \\sum_{i=1}^N p(z_i=k|\\mathbf{x}_i,\\Theta^t)\\left[\\left( -\\frac{1}{2\\sigma_k^2} + \\frac{1}{2\\left(\\sigma_k^2\\right)^2}\\left\\| \\mathbf{x}_i - \\mu_k \\right\\|_2^2 \\right)\\right] = 0\\\\\n",
    "&=&  \\sum_{i=1}^N p(z_i=k|\\mathbf{x}_i,\\Theta^t)\\frac{1}{2\\sigma_k^2} = \\sum_{i=1}^N p(z_i=k|\\mathbf{x}_i,\\Theta^t)\\frac{1}{\\left(\\sigma_k^2\\right)^2}\\left\\| \\mathbf{x}_i - \\mu_k \\right\\|_2^2  \\\\\n",
    "&=&  \\sum_{i=1}^N p(z_i=k|\\mathbf{x}_i,\\Theta^t) = \\sum_{i=1}^N p(z_i=k|\\mathbf{x}_i,\\Theta^t)\\frac{1}{\\sigma_k^2}\\left\\| \\mathbf{x}_i - \\mu_k \\right\\|_2^2  \\\\\n",
    "&=&  \\sum_{i=1}^N p(z_i=k|\\mathbf{x}_i,\\Theta^t) = \\frac{1}{\\sigma_k^2} \\sum_{i=1}^N p(z_i=k|\\mathbf{x}_i,\\Theta^t)\\left\\| \\mathbf{x}_i - \\mu_k \\right\\|_2^2  \\\\\n",
    "&=&   \\sigma_k^2 = \\frac{\\sum_{i=1}^N p(z_i=k|\\mathbf{x}_i,\\Theta^t)\\left\\| \\mathbf{x}_i - \\mu_k \\right\\|_2^2}{  \\sum_{i=1}^N p(z_i=k|\\mathbf{x}_i,\\Theta^t)} \n",
    "%\n",
    "\\end{eqnarray}"
   ]
  },
  {
   "cell_type": "markdown",
   "metadata": {},
   "source": [
    "## Update Equation for mixture weights\n",
    "\n",
    "\\begin{eqnarray}\n",
    "& & \\frac{\\partial Q(\\Theta, \\Theta^t)}{\\partial \\pi_k} = \\nonumber \\\\\n",
    "& &\\frac{\\partial}{\\partial \\pi_k} \\left[\\sum_{i=1}^N \\sum_{k=1}^K p(z_i=k|\\mathbf{x}_i,\\Theta^t)\\left( -\\frac{d}{2}\\ln\\sigma_k^2 -\\frac{1}{2\\sigma_k^2}\\left\\| \\mathbf{x}_i - \\mu_k \\right\\|_2^2 + \\ln \\pi_k \\right) - \\lambda\\left(\\sum_{k=1}^K \\pi_k - 1\\right)\\right] = 0 \\nonumber\\\\\n",
    "&=&\\sum_{i=1}^N  p(z_i=k|\\mathbf{x}_i,\\Theta^t)\\left(\\frac{1}{\\pi_k} \\right) - \\lambda  = 0 \\nonumber\\\\\n",
    "&=& \\left(\\frac{1}{\\pi_k} \\right)  \\sum_{i=1}^N  p(z_i=k|\\mathbf{x}_i,\\Theta^t)- \\lambda  = 0 \\nonumber\\\\\n",
    "&=&  \\sum_{i=1}^N  p(z_i=k|\\mathbf{x}_i,\\Theta^t)  = \\lambda \\pi_k \\nonumber\\\\\n",
    "%\n",
    "\\end{eqnarray}\n",
    "\n",
    "Since $\\sum_k \\pi_k = 1$, then:\n",
    "\\begin{eqnarray}\n",
    "& \\sum_{k=1}^K \\frac{\\sum_{i=1}^N  p(z_i=k|\\mathbf{x}_i,\\Theta^t)}{\\lambda}  =  \\sum_{k=1}^K \\pi_k = 1\\nonumber\\\\\n",
    "& \\lambda = \\sum_{k=1}^K \\sum_{i=1}^N  p(z_i=k|\\mathbf{x}_i,\\Theta^t) \\nonumber\\\\\n",
    "\\end{eqnarray}\n",
    "\n",
    "So: \n",
    "\\begin{eqnarray}\n",
    "\\pi_k &=&\\frac{\\sum_{i=1}^N  p(z_i=k|\\mathbf{x}_i,\\Theta^t)}{\\sum_{k=1}^K \\sum_{i=1}^N  p(z_i=k|\\mathbf{x}_i,\\Theta^t)} \\\\\n",
    " &=&\\frac{\\sum_{i=1}^N  p(z_i=k|\\mathbf{x}_i,\\Theta^t)}{\\sum_{i=1}^N \\sum_{k=1}^K  p(z_i=k|\\mathbf{x}_i,\\Theta^t)}\\\\\n",
    "  &=&\\frac{\\sum_{i=1}^N  p(z_i=k|\\mathbf{x}_i,\\Theta^t)}{\\sum_{i=1}^N 1}\\\\\n",
    "    &=&\\frac{\\sum_{i=1}^N  p(z_i=k|\\mathbf{x}_i,\\Theta^t)}{N}\n",
    "\\end{eqnarray}\n"
   ]
  },
  {
   "cell_type": "markdown",
   "metadata": {},
   "source": [
    "* We now have everything we need to implement the EM algorithm.  \n",
    "\n",
    "* Pseudo-code for the algorithm is: \n",
    "\n",
    "    * Initialize all parameters\n",
    "    * t = 1\n",
    "    * While convergence not yet reached:\n",
    "        * E-step:  Compute $p(z_i=k|\\mathbf{x}_i,\\Theta^t)$ for every $\\mathbf{x}_i$ and $k$\n",
    "        * M-step:\n",
    "            * Update $\\mu_k$ for all $k$\n",
    "            * Update $\\sigma_k^2$ for all $k$\n",
    "            * Update $\\pi_k$ for all $k$\n",
    "        * t = t+1\n",
    "        * Check convergence criteria\n"
   ]
  },
  {
   "cell_type": "code",
   "execution_count": null,
   "metadata": {
    "collapsed": true
   },
   "outputs": [],
   "source": []
  }
 ],
 "metadata": {
  "kernelspec": {
   "display_name": "Python 3",
   "language": "python",
   "name": "python3"
  },
  "language_info": {
   "codemirror_mode": {
    "name": "ipython",
    "version": 3
   },
   "file_extension": ".py",
   "mimetype": "text/x-python",
   "name": "python",
   "nbconvert_exporter": "python",
   "pygments_lexer": "ipython3",
   "version": "3.7.3"
  }
 },
 "nbformat": 4,
 "nbformat_minor": 1
}
