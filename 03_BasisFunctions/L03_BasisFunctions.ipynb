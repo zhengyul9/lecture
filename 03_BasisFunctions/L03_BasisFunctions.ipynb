{
 "cells": [
  {
   "cell_type": "markdown",
   "metadata": {},
   "source": [
    "# Lecture 3 - Linear Models for Regression with Basis Functions\n"
   ]
  },
  {
   "cell_type": "markdown",
   "metadata": {},
   "source": [
    "\n",
    "In our **Polynomial Curve Fitting** example, the function is linear with respect to the parameters we are estimating. Thus, it is considered a  *linear regression model*. (However, it is *non-linear* with respect to the input variable, $x$)\n",
    "\n",
    "\n",
    "<div class=\"alert alert-success\">\n",
    "    <b>Input Space</b> \n",
    "\n",
    "Suppose we are given a training set comprising of $N$ observations of $\\mathbf{x}$, $\\mathbf{x} = \\left[x_1, x_2, \\ldots, x_N \\right]^T$, and its corresponding desired outputs $\\mathbf{t} = \\left[t_1, t_2, \\ldots, t_N\\right]^T$, where sample $x_i$ has the desired label $t_i$.  The input space is defined by the domain of $\\mathbf{x}$.\n",
    "</div>\n"
   ]
  },
  {
   "cell_type": "markdown",
   "metadata": {},
   "source": [
    "* The polynomial curve fitting example can be rewritten as follows:\n",
    "\n",
    "\\begin{eqnarray}\n",
    "t \\sim y(x,\\mathbf{w}) &=& w_0 + \\sum_{j=1}^{M} w_j x^j\\\\\n",
    "&=& \\sum_{j=0}^{M} w_j \\phi_j(x)\\\\\n",
    "\\end{eqnarray}\n",
    "where\n",
    "$$\\phi_j(x) = x^j$$\n",
    "\n",
    "\n",
    "* By modifying the function $\\phi$ (known as a *basis function*), we can easily extend/modify the class of models being considered. \n",
    "\n",
    "\n",
    "<div class=\"alert alert-success\">\n",
    "    <b>Linear Basis Model</b> \n",
    "\n",
    "The linear basis model for regression takes linear combinations of fixed nonlinear functions of the input variables\n",
    "$$t \\sim y(\\mathbf{x},\\mathbf{w}) = \\sum_{j=0}^{M} w_j\\phi_j(\\mathbf{x})$$\n",
    "where $\\mathbf{w} = \\left[w_{0}, w_{1}, \\ldots, w_{M}\\right]^T$ and\n",
    "$\\mathbf{x} = \\left[x_1, \\ldots, x_D\\right]^T$ \n",
    "</div>\n",
    "\n"
   ]
  },
  {
   "cell_type": "markdown",
   "metadata": {},
   "source": [
    "* For all data observations $\\{x_i\\}_{i=1}^N$ and using the basis mapping defined as $\\boldsymbol{\\phi}(x_i) = \\left[\\begin{array}{ccccc} x_{i}^{0} & x_{i}^{1} & x_{i}^{2} & \\cdots & x_{i}^{M}\\end{array}\\right]^T$, we can write the input data in a *matrix* form as:\n",
    "\n",
    "$$\\mathbf{X} = \\left[\\begin{array}{ccccc}\n",
    "1 & x_{1} & x_{1}^{2} & \\cdots & x_{1}^{M}\\\\\n",
    "1 & x_{2} & x_{2}^{2} & \\cdots & x_{2}^{M}\\\\\n",
    "\\vdots & \\vdots & \\vdots & \\ddots & \\vdots\\\\\n",
    "1 & x_{N} & x_{N}^{2} & \\cdots & x_{N}^{M}\n",
    "\\end{array}\\right] = \\left[\\begin{array}{c}\n",
    "\\boldsymbol{\\phi}^T(x_1)\\\\ \\boldsymbol{\\phi}^T(x_2) \\\\ \\vdots \\\\ \\boldsymbol{\\phi}^T(x_N)\\end{array}\\right] \\in \\mathbb{R}^{N\\times (M+1)}$$\n",
    "\n",
    "where each row is a feature representation of a data point $x_i$.\n",
    "\n",
    "Other **basis functions** include:\n",
    "\n",
    "* Radial Basis functions (D = 1): $\\phi_j(x) = \\exp\\left\\{-\\frac{(x-\\mu_j)^2)}{2s^2}\\right\\}$ where $x \\in R^1$\n",
    "\n",
    "* Radial Basis function (D > 1): $\\phi_j(\\mathbf{x}) = \\exp\\left\\{-\\frac{1}{2}(x-\\boldsymbol{\\mu}_j)^T\\Sigma_j^{-1}(x-\\boldsymbol{\\mu}_j)\\right\\}$ where $\\mathbf{x} \\in R^D$, $\\boldsymbol{\\mu}_j \\in R^D$ and $\\boldsymbol{\\Sigma}_j \\in R^{D\\times D}$\n",
    "\n",
    "* Fourier Basis functions\n",
    "\n",
    "* Wavelets Basis Functions\n",
    "\n",
    "<div class=\"alert alert-success\">\n",
    "    <b>Feature Space</b> \n",
    "\n",
    "The domain of $\\boldsymbol{\\phi}(\\mathbf{x})$ defines the **feature space**:\n",
    "\n",
    "\\begin{align}\n",
    "\\boldsymbol{\\phi}: \\mathbb{R}^D & \\rightarrow \\mathbb{R}^{M+1} \\\\\n",
    "\\boldsymbol{\\phi}(\\mathbf{x}) & \\rightarrow [1,\\phi_1(\\mathbf{x}), \\phi_2(\\mathbf{x}), ..., \\phi_M(\\mathbf{x})]\n",
    "\\end{align}\n",
    "</div>\n",
    "\n",
    "* When we use linear regression with respect to a set of (non-linear) basis functions, the regression model is linear in the *feature space* but non-linear in the input space.\n"
   ]
  },
  {
   "cell_type": "markdown",
   "metadata": {},
   "source": [
    "<div class=\"alert alert-success\">\n",
    "    <b>Objective Function</b> \n",
    "\n",
    "We *fit* the polynomial regression model such that the *objective function* $E(\\mathbf{w})$ is minimized:\n",
    "$$\\arg_{\\mathbf{w}}\\min E(\\mathbf{w})$$\n",
    "where $E(\\mathbf{w}) = \\frac{1}{2}\\left\\Vert \\mathbf{\\Phi}\\mathbf{w} - \\mathbf{t} \\right\\Vert^2_2$\n",
    "</div>\n",
    "\n",
    "<div><img src=\"figures/LeastSquares.png\", width=\"300\"><!div>\n",
    "\n",
    "* This error function is minimizing the (Euclidean) *distance* of every point to the curve.\n",
    "\n",
    "We **optimize** $E(\\mathbf{w})$ by finding the *optimal* set of parameters $\\mathbf{w}^*$ that minimize the error function. \n",
    "\n",
    "To do that, we **take the derivative of $E(\\mathbf{w})$ with respect to the parameters $\\mathbf{w}$**.\n",
    "\n",
    "$$\\frac{\\partial E(\\mathbf{w})}{\\partial \\mathbf{w}} = \\left[ \\frac{\\partial E(\\mathbf{w})}{\\partial w_0},  \\frac{\\partial E(\\mathbf{w})}{\\partial w_1}, \\ldots,  \\frac{\\partial E(\\mathbf{w})}{\\partial w_M} \\right]^T$$\n",
    "\n",
    "* If we rewrite the objective function as:\n",
    "\\begin{align}\n",
    "E(\\mathbf{w}) &= \\frac{1}{2} \\left( \\mathbf{\\Phi}\\mathbf{w} - \\mathbf{t}\\right)^T\\left( \\mathbf{\\Phi}\\mathbf{w} - \\mathbf{t}\\right) \\\\\n",
    "& = \\frac{1}{2} \\left( \\mathbf{w}^T\\mathbf{\\Phi}^T - \\mathbf{t}^T\\right)\\left( \\mathbf{\\Phi}\\mathbf{w} - \\mathbf{t}\\right) \\\\\n",
    "& = \\frac{1}{2} \\left(\\mathbf{w}^T\\mathbf{\\Phi}^T\\mathbf{\\Phi}\\mathbf{w} - \\mathbf{w}^T\\mathbf{\\Phi}^T \\mathbf{t} - \\mathbf{t}^T\\mathbf{\\Phi}\\mathbf{w} + \\mathbf{t}^T\\mathbf{t}\\right)\n",
    "\\end{align}\n",
    "\n",
    "\n",
    "* Solving for $\\mathbf{w}$, we find:\n",
    "\n",
    "\\begin{align}\n",
    "\\frac{\\partial E(\\mathbf{w})}{\\partial \\mathbf{w}} &= 0 \\\\\n",
    "\\frac{\\partial }{\\partial \\mathbf{w}} \\left[\\frac{1}{2} \\left(\\mathbf{w}^T\\mathbf{\\Phi}^T\\mathbf{\\Phi}\\mathbf{w} - \\mathbf{w}^T\\mathbf{\\Phi}^T \\mathbf{t} - \\mathbf{t}^T\\mathbf{\\Phi}\\mathbf{w} + \\mathbf{t}^T\\mathbf{t}\\right) \\right] &= 0 \\\\\n",
    "\\frac{\\partial }{\\partial \\mathbf{w}} \\left[ \\left(\\mathbf{w}^T\\mathbf{\\Phi}^T\\mathbf{\\Phi}\\mathbf{w} - \\mathbf{w}^T\\mathbf{\\Phi}^T \\mathbf{t} - \\mathbf{t}^T\\mathbf{\\Phi}\\mathbf{w} + \\mathbf{t}^T\\mathbf{t}\\right) \\right] &= 0 \\\\\n",
    "(\\mathbf{\\Phi}^T\\mathbf{\\Phi}\\mathbf{w})^T + \\mathbf{w}^T\\mathbf{\\Phi}^T\\mathbf{\\Phi} - (\\mathbf{\\Phi}^T \\mathbf{t})^T - \\mathbf{t}^T\\mathbf{\\Phi} &=0 \\\\\n",
    "\\mathbf{w}^T\\mathbf{\\Phi}^T\\mathbf{\\Phi} + \\mathbf{w}^T\\mathbf{\\Phi}^T\\mathbf{\\Phi} - \\mathbf{t}^T\\mathbf{\\Phi} - \\mathbf{t}^T\\mathbf{\\Phi} &= 0\\\\\n",
    "2 \\mathbf{w}^T\\mathbf{\\Phi}^T\\mathbf{\\Phi} &= 2 \\mathbf{t}^T\\mathbf{\\Phi} \\\\\n",
    "(\\mathbf{w}^T\\mathbf{\\Phi}^T\\mathbf{\\Phi})^T &= (\\mathbf{t}^T\\mathbf{\\Phi})^T\\text{, apply transpose on both sides} \\\\\n",
    "\\mathbf{\\Phi}^T\\mathbf{\\Phi}\\mathbf{w} &= \\mathbf{\\Phi}^T\\mathbf{t} \\\\\n",
    "\\mathbf{w} &= \\left(\\mathbf{\\Phi}^T\\mathbf{\\Phi}\\right)^{-1}\\mathbf{\\Phi}^T\\mathbf{t}\n",
    "\\end{align}"
   ]
  },
  {
   "cell_type": "markdown",
   "metadata": {},
   "source": [
    "## Suggested Additional Reading Materials\n",
    "\n",
    "* From \"Python Data Science Handbook\" 2017 by Jake VanderPlas, read section \"In Depth: Linear Regression\", pages 390-405.\n",
    "    \n"
   ]
  }
 ],
 "metadata": {
  "kernelspec": {
   "display_name": "Python 3",
   "language": "python",
   "name": "python3"
  },
  "language_info": {
   "codemirror_mode": {
    "name": "ipython",
    "version": 3
   },
   "file_extension": ".py",
   "mimetype": "text/x-python",
   "name": "python",
   "nbconvert_exporter": "python",
   "pygments_lexer": "ipython3",
   "version": "3.7.2"
  },
  "latex_envs": {
   "LaTeX_envs_menu_present": true,
   "autoclose": true,
   "autocomplete": true,
   "bibliofile": "biblio.bib",
   "cite_by": "apalike",
   "current_citInitial": 1,
   "eqLabelWithNumbers": true,
   "eqNumInitial": 1,
   "hotkeys": {
    "equation": "Ctrl-E",
    "itemize": "Ctrl-I"
   },
   "labels_anchors": false,
   "latex_user_defs": false,
   "report_style_numbering": false,
   "user_envs_cfg": false
  }
 },
 "nbformat": 4,
 "nbformat_minor": 2
}
